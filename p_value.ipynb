{
 "cells": [
  {
   "cell_type": "code",
   "execution_count": 1,
   "metadata": {},
   "outputs": [],
   "source": [
    "import numpy as np\n",
    "from scipy import stats\n",
    "\n",
    "def get_p_value(arrA, arrB):\n",
    "\n",
    "    a = np.array(arrA)\n",
    "    b = np.array(arrB)\n",
    "\n",
    "    t, p = stats.ttest_ind(a,b, alternative='greater')\n",
    "    return p, a.mean(), a.std(), b.mean(), b.std(), a.mean() / b.mean()"
   ]
  },
  {
   "attachments": {},
   "cell_type": "markdown",
   "metadata": {},
   "source": [
    "# Beauty"
   ]
  },
  {
   "attachments": {},
   "cell_type": "markdown",
   "metadata": {},
   "source": [
    "### ICLRec"
   ]
  },
  {
   "cell_type": "code",
   "execution_count": 17,
   "metadata": {},
   "outputs": [],
   "source": [
    "R5 = [0.0496, 0.0504, 0.0493, 0.0497, 0.0491, 0.0481, 0.0482, 0.0515, 0.0500, 0.0503]\n",
    "R20 = [0.1043, 0.1073, 0.1077, 0.1068, 0.1057, 0.1045, 0.1037, 0.1075, 0.1058, 0.1064]\n",
    "N5 = [0.0327, 0.0339, 0.0325, 0.0327, 0.0334, 0.0323, 0.0321, 0.0338, 0.0335, 0.0327]\n",
    "N20 = [0.0481, 0.0498, 0.0488, 0.0486, 0.0493, 0.0483, 0.0477, 0.0496, 0.0493, 0.0486]"
   ]
  },
  {
   "attachments": {},
   "cell_type": "markdown",
   "metadata": {},
   "source": [
    "### Mine"
   ]
  },
  {
   "cell_type": "code",
   "execution_count": 18,
   "metadata": {},
   "outputs": [],
   "source": [
    "R5_ = [0.0539, 0.0551, 0.0548, 0.0535, 0.0549, 0.0547, 0.0534, 0.0522, 0.0559, 0.0548]\n",
    "R20_ = [0.1088, 0.1082, 0.1103, 0.1093, 0.1073, 0.1083, 0.1105, 0.1102, 0.1097, 0.1109]\n",
    "N5_ = [0.0371, 0.0381, 0.0371, 0.0371, 0.0368, 0.0374, 0.0374, 0.0353, 0.0384, 0.0372]\n",
    "N20_ = [0.0526, 0.0531, 0.0529, 0.0529, 0.0516, 0.0525, 0.0536, 0.0516, 0.0537, 0.0530]"
   ]
  },
  {
   "cell_type": "code",
   "execution_count": 14,
   "metadata": {},
   "outputs": [
    {
     "data": {
      "text/plain": [
       "(4.148822086500284e-09,\n",
       " 0.05432,\n",
       " 0.001011731189595338,\n",
       " 0.049620000000000004,\n",
       " 0.0009724196624914575,\n",
       " 1.09471987101975)"
      ]
     },
     "execution_count": 14,
     "metadata": {},
     "output_type": "execute_result"
    }
   ],
   "source": [
    "get_p_value(R5_, R5)"
   ]
  },
  {
   "cell_type": "code",
   "execution_count": 15,
   "metadata": {},
   "outputs": [
    {
     "data": {
      "text/plain": [
       "(8.545055581969056e-06,\n",
       " 0.10935000000000002,\n",
       " 0.0011137773565663826,\n",
       " 0.10597000000000001,\n",
       " 0.0013483693855913532,\n",
       " 1.0318958195715768)"
      ]
     },
     "execution_count": 15,
     "metadata": {},
     "output_type": "execute_result"
    }
   ],
   "source": [
    "get_p_value(R20_, R20)"
   ]
  },
  {
   "cell_type": "code",
   "execution_count": 19,
   "metadata": {},
   "outputs": [
    {
     "data": {
      "text/plain": [
       "(8.606459733303514e-11,\n",
       " 0.03719,\n",
       " 0.0007828793010419937,\n",
       " 0.032959999999999996,\n",
       " 0.000605309838016862,\n",
       " 1.1283373786407769)"
      ]
     },
     "execution_count": 19,
     "metadata": {},
     "output_type": "execute_result"
    }
   ],
   "source": [
    "get_p_value(N5_, N5)"
   ]
  },
  {
   "cell_type": "code",
   "execution_count": 20,
   "metadata": {},
   "outputs": [
    {
     "data": {
      "text/plain": [
       "(1.097825778404129e-10,\n",
       " 0.052750000000000005,\n",
       " 0.000677126280689208,\n",
       " 0.04881,\n",
       " 0.0006456779382943164,\n",
       " 1.0807211636959642)"
      ]
     },
     "execution_count": 20,
     "metadata": {},
     "output_type": "execute_result"
    }
   ],
   "source": [
    "get_p_value(N20_, N20)"
   ]
  },
  {
   "attachments": {},
   "cell_type": "markdown",
   "metadata": {},
   "source": [
    "# Sports"
   ]
  },
  {
   "attachments": {},
   "cell_type": "markdown",
   "metadata": {},
   "source": [
    "### ICLRec"
   ]
  },
  {
   "cell_type": "code",
   "execution_count": 24,
   "metadata": {},
   "outputs": [],
   "source": [
    "R5 = [0.0287, 0.0277, 0.0271, 0.0268, 0.0270, 0.0268, 0.0276, 0.0272, 0.0267]\n",
    "R20 = [0.0641, 0.0622, 0.0634, 0.0638, 0.0641, 0.0634, 0.0649, 0.0642, 0.0634]\n",
    "N5 = [0.0185, 0.0182, 0.0179, 0.0179, 0.0180, 0.0176, 0.0180, 0.0177, 0.0178]\n",
    "N20 = [0.0283, 0.0277, 0.0283, 0.0282, 0.0281, 0.0278, 0.0287, 0.0283, 0.0280]"
   ]
  },
  {
   "attachments": {},
   "cell_type": "markdown",
   "metadata": {},
   "source": [
    "### Mine"
   ]
  },
  {
   "cell_type": "code",
   "execution_count": 25,
   "metadata": {},
   "outputs": [],
   "source": [
    "R5_ = [0.0311, 0.0310, 0.0303, 0.0296, 0.0301, 0.0293, 0.0301, 0.0297, 0.0290, 0.0288]\n",
    "R20_ = [0.0670, 0.0660, 0.0672, 0.0660, 0.0662, 0.0681, 0.0671, 0.0670, 0.0645, 0.0655]\n",
    "N5_ = [0.0212, 0.0207, 0.0206, 0.0200, 0.0200, 0.0200, 0.0201, 0.0200, 0.0197, 0.0188]\n",
    "N20_ = [0.0303, 0.0306, 0.0303, 0.0303, 0.0302, 0.0312, 0.0323, 0.0295, 0.0297, 0.0300]"
   ]
  },
  {
   "cell_type": "code",
   "execution_count": 26,
   "metadata": {},
   "outputs": [
    {
     "data": {
      "text/plain": [
       "(1.8694995483786322e-07,\n",
       " 0.0299,\n",
       " 0.0007348469228349531,\n",
       " 0.02728888888888889,\n",
       " 0.0005971123930019731,\n",
       " 1.0956840390879479)"
      ]
     },
     "execution_count": 26,
     "metadata": {},
     "output_type": "execute_result"
    }
   ],
   "source": [
    "get_p_value(R5_, R5)"
   ]
  },
  {
   "cell_type": "code",
   "execution_count": 27,
   "metadata": {},
   "outputs": [
    {
     "data": {
      "text/plain": [
       "(2.4222511533469386e-06,\n",
       " 0.06645999999999999,\n",
       " 0.0009738583059151868,\n",
       " 0.06372222222222222,\n",
       " 0.0007098947931094799,\n",
       " 1.0429642545771576)"
      ]
     },
     "execution_count": 27,
     "metadata": {},
     "output_type": "execute_result"
    }
   ],
   "source": [
    "get_p_value(R20_, R20)"
   ]
  },
  {
   "cell_type": "code",
   "execution_count": 28,
   "metadata": {},
   "outputs": [
    {
     "data": {
      "text/plain": [
       "(2.1089833778034893e-08,\n",
       " 0.02011,\n",
       " 0.0006090155991434045,\n",
       " 0.017955555555555554,\n",
       " 0.0002543449587168796,\n",
       " 1.1199876237623763)"
      ]
     },
     "execution_count": 28,
     "metadata": {},
     "output_type": "execute_result"
    }
   ],
   "source": [
    "get_p_value(N5_, N5)"
   ]
  },
  {
   "cell_type": "code",
   "execution_count": 29,
   "metadata": {},
   "outputs": [
    {
     "data": {
      "text/plain": [
       "(1.7504686976167992e-07,\n",
       " 0.030440000000000002,\n",
       " 0.0007618398781896368,\n",
       " 0.02815555555555556,\n",
       " 0.00028327886186626594,\n",
       " 1.081136543014996)"
      ]
     },
     "execution_count": 29,
     "metadata": {},
     "output_type": "execute_result"
    }
   ],
   "source": [
    "get_p_value(N20_, N20)"
   ]
  },
  {
   "attachments": {},
   "cell_type": "markdown",
   "metadata": {},
   "source": [
    "# Toys"
   ]
  },
  {
   "attachments": {},
   "cell_type": "markdown",
   "metadata": {},
   "source": [
    "### ICLRec"
   ]
  },
  {
   "cell_type": "code",
   "execution_count": 30,
   "metadata": {},
   "outputs": [],
   "source": [
    "R5 = [0.0580, 0.0563, 0.0576, 0.0576, 0.0582, 0.0585, 0.0574, 0.0583, 0.0580, 0.0574]\n",
    "R20 = [0.116, 0.114, 0.1128, 0.113, 0.1138, 0.1145, 0.112, 0.113, 0.113, 0.1145]\n",
    "N5 = [0.0387, 0.0384, 0.0393, 0.0393, 0.0395, 0.0399, 0.0395, 0.0399, 0.0401, 0.0389]\n",
    "N20 = [0.0551, 0.0547, 0.0549, 0.0550, 0.0553, 0.0558, 0.0550, 0.0553, 0.0557, 0.0550]"
   ]
  },
  {
   "attachments": {},
   "cell_type": "markdown",
   "metadata": {},
   "source": [
    "### Mine"
   ]
  },
  {
   "cell_type": "code",
   "execution_count": 31,
   "metadata": {},
   "outputs": [],
   "source": [
    "R5_ = [0.0616, 0.0647, 0.0621, 0.0615, 0.0625, 0.0635, 0.0632, 0.0619, 0.0637, 0.0625]\n",
    "R20_ = [0.1185, 0.1175, 0.1155, 0.1155, 0.1181, 0.1181, 0.1195, 0.1168, 0.1181, 0.1180]\n",
    "N5_ = [0.0427, 0.0446, 0.0426, 0.0426, 0.0437, 0.0438, 0.0436, 0.0433, 0.0438, 0.0425]\n",
    "N20_ = [0.0588, 0.0595, 0.0578, 0.0579, 0.0595, 0.0594, 0.0597, 0.0589, 0.0592, 0.0582]"
   ]
  },
  {
   "cell_type": "code",
   "execution_count": 32,
   "metadata": {},
   "outputs": [
    {
     "data": {
      "text/plain": [
       "(6.61896103121433e-11,\n",
       " 0.06272,\n",
       " 0.000980612053770501,\n",
       " 0.057730000000000004,\n",
       " 0.0005984145720150872,\n",
       " 1.0864368612506494)"
      ]
     },
     "execution_count": 32,
     "metadata": {},
     "output_type": "execute_result"
    }
   ],
   "source": [
    "get_p_value(R5_, R5)"
   ]
  },
  {
   "cell_type": "code",
   "execution_count": 33,
   "metadata": {},
   "outputs": [
    {
     "data": {
      "text/plain": [
       "(5.593018101566702e-07,\n",
       " 0.11756000000000003,\n",
       " 0.0012158947322856494,\n",
       " 0.11366000000000001,\n",
       " 0.0010873821775254562,\n",
       " 1.0343128629245117)"
      ]
     },
     "execution_count": 33,
     "metadata": {},
     "output_type": "execute_result"
    }
   ],
   "source": [
    "get_p_value(R20_, R20)"
   ]
  },
  {
   "cell_type": "code",
   "execution_count": 34,
   "metadata": {},
   "outputs": [
    {
     "data": {
      "text/plain": [
       "(1.8621871772391038e-11,\n",
       " 0.04332,\n",
       " 0.0006645299090334458,\n",
       " 0.03935,\n",
       " 0.0005239274758971896,\n",
       " 1.1008894536213467)"
      ]
     },
     "execution_count": 34,
     "metadata": {},
     "output_type": "execute_result"
    }
   ],
   "source": [
    "get_p_value(N5_, N5)"
   ]
  },
  {
   "cell_type": "code",
   "execution_count": 35,
   "metadata": {},
   "outputs": [
    {
     "data": {
      "text/plain": [
       "(6.4388551114459525e-12,\n",
       " 0.05889000000000001,\n",
       " 0.0006640030120413615,\n",
       " 0.05518000000000001,\n",
       " 0.0003310589071449378,\n",
       " 1.0672345052555274)"
      ]
     },
     "execution_count": 35,
     "metadata": {},
     "output_type": "execute_result"
    }
   ],
   "source": [
    "get_p_value(N20_, N20)"
   ]
  },
  {
   "attachments": {},
   "cell_type": "markdown",
   "metadata": {},
   "source": [
    "# Yelp"
   ]
  },
  {
   "attachments": {},
   "cell_type": "markdown",
   "metadata": {},
   "source": [
    "### ICLRec"
   ]
  },
  {
   "cell_type": "code",
   "execution_count": 2,
   "metadata": {},
   "outputs": [],
   "source": [
    "R5 = [0.0241, 0.0239, 0.0242, 0.0230, 0.0246, 0.0235, 0.0243, 0.0247, 0.0242, 0.0232]\n",
    "R20 = [0.0643, 0.0652, 0.0664, 0.0643, 0.0652, 0.0644, 0.0646, 0.0651, 0.0658, 0.0664]\n",
    "N5 = [0.0153, 0.0150, 0.0151, 0.0148, 0.0155, 0.0147, 0.0153, 0.0155, 0.0150, 0.0146]\n",
    "N20 = [0.0265, 0.0264, 0.0269, 0.0263, 0.0267, 0.0261, 0.0265, 0.0267, 0.0265, 0.0266]"
   ]
  },
  {
   "cell_type": "code",
   "execution_count": 39,
   "metadata": {},
   "outputs": [],
   "source": [
    "R5 = [ 0.0239,   0.0235, 0.0243, 0.0247, 0.0242, 0.0232]\n",
    "R20 = [ 0.0652,  0.0644, 0.0646, 0.0651, 0.0658, 0.0654]\n",
    "N5 = [ 0.0150,    0.0147, 0.0153, 0.0155, 0.0150, 0.0146]\n",
    "N20 = [ 0.0264,  0.0261, 0.0265, 0.0267, 0.0265, 0.0263]"
   ]
  },
  {
   "attachments": {},
   "cell_type": "markdown",
   "metadata": {},
   "source": [
    "### Mine"
   ]
  },
  {
   "cell_type": "code",
   "execution_count": 3,
   "metadata": {},
   "outputs": [],
   "source": [
    "R5_ = [0.0246, 0.0242, 0.0242, 0.0233, 0.0243, 0.0246, 0.0244, 0.0256, 0.0251, 0.0254]\n",
    "R20_ = [0.0666, 0.0670, 0.0662, 0.0653, 0.0660, 0.0668, 0.0672, 0.0663, 0.0675, 0.0667]\n",
    "N5_ = [0.0153, 0.0151, 0.0149, 0.0148, 0.0152, 0.0153, 0.0156, 0.0159, 0.0159, 0.0159]\n",
    "N20_ = [0.0270, 0.0271, 0.0265, 0.0265, 0.0268, 0.0270, 0.0275, 0.0272, 0.0277, 0.0273]"
   ]
  },
  {
   "cell_type": "code",
   "execution_count": 50,
   "metadata": {},
   "outputs": [],
   "source": [
    "R5_ = [ 0.0242,   0.0246, 0.0244, 0.0256, 0.0251, 0.0254]\n",
    "R20_ = [ 0.0670,   0.0668, 0.0672, 0.0673, 0.0675, 0.0667]\n",
    "N5_ = [ 0.0155,   0.0153, 0.0156, 0.0159, 0.0159, 0.0159]\n",
    "N20_ = [ 0.0271,  0.0270, 0.0275, 0.0277, 0.0277, 0.0273]"
   ]
  },
  {
   "cell_type": "code",
   "execution_count": 46,
   "metadata": {},
   "outputs": [
    {
     "data": {
      "text/plain": [
       "(0.008748603124562286,\n",
       " 0.02488333333333333,\n",
       " 0.0005177408189003023,\n",
       " 0.023966666666666664,\n",
       " 0.0005022173057773122,\n",
       " 1.0382475660639778)"
      ]
     },
     "execution_count": 46,
     "metadata": {},
     "output_type": "execute_result"
    }
   ],
   "source": [
    "get_p_value(R5_, R5)"
   ]
  },
  {
   "cell_type": "code",
   "execution_count": 47,
   "metadata": {},
   "outputs": [
    {
     "data": {
      "text/plain": [
       "(4.881454594712476e-06,\n",
       " 0.06708333333333333,\n",
       " 0.00027938424357067197,\n",
       " 0.06508333333333333,\n",
       " 0.00047051980711643534,\n",
       " 1.030729833546735)"
      ]
     },
     "execution_count": 47,
     "metadata": {},
     "output_type": "execute_result"
    }
   ],
   "source": [
    "get_p_value(R20_, R20)"
   ]
  },
  {
   "cell_type": "code",
   "execution_count": 51,
   "metadata": {},
   "outputs": [
    {
     "data": {
      "text/plain": [
       "(0.001703833356153615,\n",
       " 0.01568333333333333,\n",
       " 0.00023392781412697066,\n",
       " 0.015016666666666666,\n",
       " 0.00031313823713426553,\n",
       " 1.0443951165371808)"
      ]
     },
     "execution_count": 51,
     "metadata": {},
     "output_type": "execute_result"
    }
   ],
   "source": [
    "get_p_value(N5_, N5)"
   ]
  },
  {
   "cell_type": "code",
   "execution_count": 49,
   "metadata": {},
   "outputs": [
    {
     "data": {
      "text/plain": [
       "(3.303382454981807e-05,\n",
       " 0.02738333333333333,\n",
       " 0.00027335365778094516,\n",
       " 0.026416666666666668,\n",
       " 0.00018633899812498222,\n",
       " 1.0365930599369082)"
      ]
     },
     "execution_count": 49,
     "metadata": {},
     "output_type": "execute_result"
    }
   ],
   "source": [
    "get_p_value(N20_, N20)"
   ]
  }
 ],
 "metadata": {
  "kernelspec": {
   "display_name": "recstudio",
   "language": "python",
   "name": "python3"
  },
  "language_info": {
   "codemirror_mode": {
    "name": "ipython",
    "version": 3
   },
   "file_extension": ".py",
   "mimetype": "text/x-python",
   "name": "python",
   "nbconvert_exporter": "python",
   "pygments_lexer": "ipython3",
   "version": "3.9.16"
  },
  "orig_nbformat": 4
 },
 "nbformat": 4,
 "nbformat_minor": 2
}
